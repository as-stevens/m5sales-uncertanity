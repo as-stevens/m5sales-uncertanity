{
 "cells": [
  {
   "cell_type": "code",
   "execution_count": 1,
   "metadata": {},
   "outputs": [
    {
     "name": "stderr",
     "output_type": "stream",
     "text": [
      "Using TensorFlow backend.\n",
      "/opt/anaconda3/lib/python3.7/site-packages/tensorflow/python/framework/dtypes.py:526: FutureWarning: Passing (type, 1) or '1type' as a synonym of type is deprecated; in a future version of numpy, it will be understood as (type, (1,)) / '(1,)type'.\n",
      "  _np_qint8 = np.dtype([(\"qint8\", np.int8, 1)])\n",
      "/opt/anaconda3/lib/python3.7/site-packages/tensorflow/python/framework/dtypes.py:527: FutureWarning: Passing (type, 1) or '1type' as a synonym of type is deprecated; in a future version of numpy, it will be understood as (type, (1,)) / '(1,)type'.\n",
      "  _np_quint8 = np.dtype([(\"quint8\", np.uint8, 1)])\n",
      "/opt/anaconda3/lib/python3.7/site-packages/tensorflow/python/framework/dtypes.py:528: FutureWarning: Passing (type, 1) or '1type' as a synonym of type is deprecated; in a future version of numpy, it will be understood as (type, (1,)) / '(1,)type'.\n",
      "  _np_qint16 = np.dtype([(\"qint16\", np.int16, 1)])\n",
      "/opt/anaconda3/lib/python3.7/site-packages/tensorflow/python/framework/dtypes.py:529: FutureWarning: Passing (type, 1) or '1type' as a synonym of type is deprecated; in a future version of numpy, it will be understood as (type, (1,)) / '(1,)type'.\n",
      "  _np_quint16 = np.dtype([(\"quint16\", np.uint16, 1)])\n",
      "/opt/anaconda3/lib/python3.7/site-packages/tensorflow/python/framework/dtypes.py:530: FutureWarning: Passing (type, 1) or '1type' as a synonym of type is deprecated; in a future version of numpy, it will be understood as (type, (1,)) / '(1,)type'.\n",
      "  _np_qint32 = np.dtype([(\"qint32\", np.int32, 1)])\n",
      "/opt/anaconda3/lib/python3.7/site-packages/tensorflow/python/framework/dtypes.py:535: FutureWarning: Passing (type, 1) or '1type' as a synonym of type is deprecated; in a future version of numpy, it will be understood as (type, (1,)) / '(1,)type'.\n",
      "  np_resource = np.dtype([(\"resource\", np.ubyte, 1)])\n"
     ]
    }
   ],
   "source": [
    "import keras"
   ]
  },
  {
   "cell_type": "code",
   "execution_count": 2,
   "metadata": {
    "code_folding": [
     0
    ]
   },
   "outputs": [],
   "source": [
    "#Mean Variance Estimation Method\n",
    "import pandas as pd\n",
    "\n",
    "dataset_path = keras.utils.get_file(\"auto-mpg.data\", \"http://archive.ics.uci.edu/ml/machine-learning-databases/auto-mpg/auto-mpg.data\")\n",
    "column_names = ['MPG','Cylinders','Displacement','Horsepower','Weight',\n",
    "                'Acceleration', 'Model Year', 'Origin']\n",
    "raw_dataset = pd.read_csv(dataset_path, names=column_names,\n",
    "                      na_values = \"?\", comment='\\t',\n",
    "                      sep=\" \", skipinitialspace=True)\n",
    "dataset = raw_dataset.copy()\n",
    "dataset = dataset.dropna()\n",
    "origin = dataset.pop('Origin')\n",
    "dataset['USA'] = (origin == 1)*1.0\n",
    "dataset['Europe'] = (origin == 2)*1.0\n",
    "dataset['Japan'] = (origin == 3)*1.0"
   ]
  },
  {
   "cell_type": "code",
   "execution_count": 3,
   "metadata": {
    "code_folding": [
     0
    ]
   },
   "outputs": [
    {
     "name": "stdout",
     "output_type": "stream",
     "text": [
      "      MPG  Cylinders  Displacement  Horsepower  Weight  Acceleration  \\\n",
      "161  16.0          6         250.0       105.0  3897.0          18.5   \n",
      "182  28.0          4         107.0        86.0  2464.0          15.5   \n",
      "295  35.7          4          98.0        80.0  1915.0          14.4   \n",
      "86   14.0          8         304.0       150.0  3672.0          11.5   \n",
      "394  44.0          4          97.0        52.0  2130.0          24.6   \n",
      "\n",
      "     Model Year  USA  Europe  Japan  \n",
      "161          75  1.0     0.0    0.0  \n",
      "182          76  0.0     1.0    0.0  \n",
      "295          79  1.0     0.0    0.0  \n",
      "86           73  1.0     0.0    0.0  \n",
      "394          82  0.0     1.0    0.0  \n",
      "      MPG  Cylinders  Displacement  Horsepower  Weight  Acceleration  \\\n",
      "146  28.0          4          90.0        75.0  2125.0          14.5   \n",
      "69   12.0          8         350.0       160.0  4456.0          13.5   \n",
      "378  38.0          4         105.0        63.0  2125.0          14.7   \n",
      "310  38.1          4          89.0        60.0  1968.0          18.8   \n",
      "108  20.0          4          97.0        88.0  2279.0          19.0   \n",
      "\n",
      "     Model Year  USA  Europe  Japan  \n",
      "146          74  1.0     0.0    0.0  \n",
      "69           72  1.0     0.0    0.0  \n",
      "378          82  1.0     0.0    0.0  \n",
      "310          80  0.0     0.0    1.0  \n",
      "108          73  0.0     0.0    1.0  \n"
     ]
    }
   ],
   "source": [
    "# train and test data set\n",
    "train_dataset = dataset.sample(frac=0.8,random_state=0)\n",
    "test_dataset = dataset.drop(train_dataset.index)\n",
    "\n",
    "# mean and var data set\n",
    "mean_dataset = train_dataset.sample(frac=0.5 , random_state=0)\n",
    "var_dataset = train_dataset.drop(mean_dataset.index)\n",
    "\n",
    "print(mean_dataset.head())\n",
    "print(var_dataset.head())"
   ]
  },
  {
   "cell_type": "code",
   "execution_count": 4,
   "metadata": {
    "code_folding": [
     0
    ]
   },
   "outputs": [],
   "source": [
    "# model definition function\n",
    "\n",
    "from keras.models import Model\n",
    "from keras.layers import Input, Dense, Dropout\n",
    "dropout_rate = 0.5\n",
    "def model_fn():\n",
    "    inputs = Input(shape=(9,))\n",
    "    x = Dense(64, activation='relu')(inputs)\n",
    "    x = Dropout(dropout_rate)(x)\n",
    "    x = Dense(64, activation='relu')(x)\n",
    "    x = Dropout(dropout_rate)(x)\n",
    "    outputs = Dense(1)(x)\n",
    "    model = Model(inputs, outputs)\n",
    "    return model"
   ]
  },
  {
   "cell_type": "code",
   "execution_count": 5,
   "metadata": {},
   "outputs": [
    {
     "name": "stdout",
     "output_type": "stream",
     "text": [
      "WARNING:tensorflow:From /opt/anaconda3/lib/python3.7/site-packages/tensorflow/python/ops/resource_variable_ops.py:435: colocate_with (from tensorflow.python.framework.ops) is deprecated and will be removed in a future version.\n",
      "Instructions for updating:\n",
      "Colocations handled automatically by placer.\n"
     ]
    }
   ],
   "source": [
    "\n",
    "mean_model = model_fn()\n",
    "mean_model.compile(loss=\"mean_squared_error\", optimizer='adam')\n",
    "\n",
    "var_model = model_fn()\n",
    "var_model.compile(loss=\"mean_squared_error\", optimizer='adam')\n"
   ]
  },
  {
   "cell_type": "code",
   "execution_count": 6,
   "metadata": {},
   "outputs": [
    {
     "name": "stdout",
     "output_type": "stream",
     "text": [
      "              MPG   Cylinders  Displacement  Horsepower       Weight  \\\n",
      "count  314.000000  314.000000    314.000000  314.000000   314.000000   \n",
      "mean    23.310510    5.477707    195.318471  104.869427  2990.251592   \n",
      "std      7.728652    1.699788    104.331589   38.096214   843.898596   \n",
      "min     10.000000    3.000000     68.000000   46.000000  1649.000000   \n",
      "25%     17.000000    4.000000    105.500000   76.250000  2256.500000   \n",
      "\n",
      "       Acceleration  Model Year         USA      Europe       Japan  \n",
      "count    314.000000  314.000000  314.000000  314.000000  314.000000  \n",
      "mean      15.559236   75.898089    0.624204    0.178344    0.197452  \n",
      "std        2.789230    3.675642    0.485101    0.383413    0.398712  \n",
      "min        8.000000   70.000000    0.000000    0.000000    0.000000  \n",
      "25%       13.800000   73.000000    0.000000    0.000000    0.000000  \n"
     ]
    }
   ],
   "source": [
    "train_stats = train_dataset.describe()\n",
    "print(train_stats.head())\n",
    "train_stats.pop(\"MPG\")\n",
    "train_stats.transpose()\n",
    "def norm(x):\n",
    "    return (x - train_stats.loc['mean']) / train_stats.loc['std']\n",
    "\n",
    "train_labels = train_dataset.pop('MPG')\n",
    "mean_labels = mean_dataset.pop('MPG')\n",
    "var_labels = var_dataset.pop('MPG')\n",
    "test_labels = test_dataset.pop('MPG')\n",
    "\n",
    "normed_train_data = norm(train_dataset)\n",
    "normed_mean_data = norm(mean_dataset)\n",
    "normed_var_data = norm(var_dataset)\n",
    "normed_test_data = norm(test_dataset)\n"
   ]
  },
  {
   "cell_type": "code",
   "execution_count": 7,
   "metadata": {},
   "outputs": [
    {
     "name": "stdout",
     "output_type": "stream",
     "text": [
      "WARNING:tensorflow:From /opt/anaconda3/lib/python3.7/site-packages/tensorflow/python/ops/math_ops.py:3066: to_int32 (from tensorflow.python.ops.math_ops) is deprecated and will be removed in a future version.\n",
      "Instructions for updating:\n",
      "Use tf.cast instead.\n"
     ]
    },
    {
     "data": {
      "text/plain": [
       "<keras.callbacks.callbacks.History at 0x6354cdf50>"
      ]
     },
     "execution_count": 7,
     "metadata": {},
     "output_type": "execute_result"
    }
   ],
   "source": [
    "# train the models\n",
    "\n",
    "EPOCHS = 100\n",
    "mean_model.fit(normed_mean_data, mean_labels, epochs=EPOCHS, validation_split=0.2, verbose=0)\n",
    "\n",
    "mean_predictions = mean_model.predict(normed_var_data)\n",
    "\n",
    "squared_residuals = (var_labels.values.reshape(-1,1) - mean_predictions) ** 2\n",
    "# print(squared_residuals)\n",
    "var_model.fit(normed_var_data, squared_residuals, epochs=EPOCHS, validation_split=0.2, verbose=0)\n"
   ]
  },
  {
   "cell_type": "code",
   "execution_count": 10,
   "metadata": {},
   "outputs": [
    {
     "data": {
      "image/png": "[encoded data removed]",
      "text/plain": [
       "<Figure size 432x288 with 1 Axes>"
      ]
     },
     "metadata": {},
     "output_type": "display_data"
    }
   ],
   "source": [
    "import matplotlib.pyplot as plt\n",
    "plt.style.use('seaborn-whitegrid')\n",
    "import numpy as np\n",
    "\n",
    "normed_test_data = normed_test_data.dropna()\n",
    "\n",
    "mean_predictions = mean_model.predict(normed_test_data)\n",
    "var_predictions = var_model.predict(normed_test_data)\n",
    "\n",
    "var_predictions[var_predictions < 0] = 0\n",
    "ci= 0.95\n",
    "lower_bound = mean_predictions - ci*np.sqrt(var_predictions)\n",
    "upper_bound = mean_predictions + ci*np.sqrt(var_predictions)\n",
    "\n",
    "error_variance = np.array([lower_bound.T, upper_bound.T])\n",
    "error_variance = error_variance.reshape(2,78)\n",
    "\n",
    "x = normed_test_data\n",
    "y_pred = var_model.predict(x)\n",
    "y_actual = test_labels\n",
    "\n",
    "plt.errorbar( y_pred, y_actual, yerr=error_variance, fmt='o', color='black',\n",
    "             ecolor='lightgray', elinewidth=2, capsize=0 )\n",
    "plt.title('Bayesian mean variance-interval uncertanity')\n",
    "plt.xlabel('Actual values')\n",
    "plt.ylabel('Predicted values')\n",
    "plt.show()\n",
    "#plt.figsize=(12, 10)\n",
    "\n"
   ]
  },
  {
   "cell_type": "code",
   "execution_count": null,
   "metadata": {},
   "outputs": [],
   "source": [
    "import matplotlib.pyplot as plt\n",
    "plt.style.use('seaborn-whitegrid')\n",
    "import numpy as np\n",
    "\n",
    "print(y_actual.size)\n",
    "print(y_pred.size)\n",
    "x = normed_test_data\n",
    "y_pred = var_model.predict(x)\n",
    "y_actual = test_labels\n",
    "dy = 0.8*y_pred\n",
    "\n",
    "plt.errorbar(y_pred, y_actual, yerr=dy, fmt='o', color='black',\n",
    "             ecolor='lightgray', elinewidth=3, capsize=0)"
   ]
  },
  {
   "cell_type": "code",
   "execution_count": null,
   "metadata": {},
   "outputs": [],
   "source": [
    "# plotting the error\n",
    "\n",
    "import numpy as np\n",
    "import matplotlib.pyplot as plt\n",
    "\n",
    "x = normed_test_data\n",
    "y_pred = var_model.predict(x)\n",
    "y_actual = test_labels\n",
    "\n",
    "# example error bar values that vary with x-position\n",
    "error = 0.1*x\n",
    "# print(\"X\")\n",
    "# print(x)\n",
    "# print(\"y_pred\")\n",
    "# print(y_pred)\n",
    "# print(\"test_labels\")\n",
    "# print(test_labels)\n",
    "\n",
    "fig, (ax0) = plt.subplots(nrows=1, sharex=True)\n",
    "ax0.errorbar(y_actual, y_pred, fmt='o')\n",
    "ax0.set_title('variable, symmetric error')\n"
   ]
  },
  {
   "cell_type": "code",
   "execution_count": null,
   "metadata": {},
   "outputs": [],
   "source": [
    "import keras.backend as K\n",
    "def tilted_loss(q,y,f):\n",
    "    e = (y-f)\n",
    "    return K.mean(K.maximum(q*e, (q-1)*e), axis=-1)\n",
    "model = model_fn()\n",
    "model.compile(loss=lambda y,f: tilted_loss(0.5,y,f), optimizer='adam')\n",
    "lowerq_model = model_fn()\n",
    "lowerq_model.compile(loss=lambda y,f: tilted_loss(0.025,y,f), optimizer='adam')\n",
    "upperq_model = model_fn()\n",
    "upperq_model.compile(loss=lambda y,f: tilted_loss(0.9725,y,f), optimizer='adam')"
   ]
  },
  {
   "cell_type": "code",
   "execution_count": null,
   "metadata": {},
   "outputs": [],
   "source": []
  }
 ],
 "metadata": {
  "kernelspec": {
   "display_name": "Python 3",
   "language": "python",
   "name": "python3"
  },
  "language_info": {
   "codemirror_mode": {
    "name": "ipython",
    "version": 3
   },
   "file_extension": ".py",
   "mimetype": "text/x-python",
   "name": "python",
   "nbconvert_exporter": "python",
   "pygments_lexer": "ipython3",
   "version": "3.7.4"
  }
 },
 "nbformat": 4,
 "nbformat_minor": 2
}
